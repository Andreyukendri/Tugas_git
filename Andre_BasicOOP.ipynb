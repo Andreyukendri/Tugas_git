{
 "cells": [
  {
   "cell_type": "markdown",
   "metadata": {
    "id": "6ad6qzQ38v3p"
   },
   "source": [
    "# Class attributes, instance attributes, instance method dan class method"
   ]
  },
  {
   "cell_type": "code",
   "execution_count": 5,
   "metadata": {
    "id": "SRIad-7SjAWe"
   },
   "outputs": [],
   "source": [
    "class Hewan:\n",
    "\n",
    "  nama_latin = 'Karnivora'\n",
    "\n",
    "  def __init__(self, nama, umur):\n",
    "    self.nama = nama\n",
    "    self.umur = umur\n",
    "\n",
    "  def print_deskripsi(self):\n",
    "    print(f'''\n",
    "    deskripsi hewan:\n",
    "    hewan: {self.nama}\n",
    "    umur: {self.umur}\n",
    "    status: sudah bangun\n",
    "    ''')\n",
    "\n",
    "  @classmethod\n",
    "  def change_nama_latin (cls, nama_latin):\n",
    "    cls.nama_latin = nama_latin\n",
    "\n"
   ]
  },
  {
   "cell_type": "code",
   "execution_count": 9,
   "metadata": {
    "id": "9eHPfkqwkXCM"
   },
   "outputs": [],
   "source": [
    "macan = Hewan('macan', 3)\n",
    "singa = Hewan('singa', 4)\n",
    "harimau = Hewan('harimau', 2)"
   ]
  },
  {
   "cell_type": "code",
   "execution_count": 10,
   "metadata": {
    "colab": {
     "base_uri": "https://localhost:8080/"
    },
    "id": "v6f6DR81mzZo",
    "outputId": "8955e436-c84b-4e21-d5f9-1fb8bca3f9b5"
   },
   "outputs": [
    {
     "name": "stdout",
     "output_type": "stream",
     "text": [
      "macan\n",
      "3\n",
      "singa\n",
      "4\n",
      "harimau\n",
      "2\n"
     ]
    }
   ],
   "source": [
    "print(macan.nama)\n",
    "print(macan.umur)\n",
    "\n",
    "print(singa.nama)\n",
    "print(singa.umur)\n",
    "\n",
    "print(harimau.nama)\n",
    "print(harimau.umur)"
   ]
  },
  {
   "cell_type": "code",
   "execution_count": 11,
   "metadata": {
    "colab": {
     "base_uri": "https://localhost:8080/"
    },
    "id": "w-8KSoeVnbng",
    "outputId": "c5ef47dd-3b00-419b-9fae-67b3d8283321"
   },
   "outputs": [
    {
     "name": "stdout",
     "output_type": "stream",
     "text": [
      "\n",
      "    deskripsi hewan:\n",
      "    hewan: macan\n",
      "    umur: 3\n",
      "    status: sudah bangun\n",
      "    \n",
      "\n",
      "    deskripsi hewan:\n",
      "    hewan: singa\n",
      "    umur: 4\n",
      "    status: sudah bangun\n",
      "    \n",
      "\n",
      "    deskripsi hewan:\n",
      "    hewan: harimau\n",
      "    umur: 2\n",
      "    status: sudah bangun\n",
      "    \n"
     ]
    }
   ],
   "source": [
    "macan.print_deskripsi()\n",
    "singa.print_deskripsi()\n",
    "harimau.print_deskripsi()"
   ]
  },
  {
   "cell_type": "code",
   "execution_count": null,
   "metadata": {
    "id": "_XnvZRj-noqd"
   },
   "outputs": [],
   "source": [
    "Hewan.change_nama_latin('Panthera')"
   ]
  },
  {
   "cell_type": "code",
   "execution_count": 12,
   "metadata": {
    "colab": {
     "base_uri": "https://localhost:8080/"
    },
    "id": "sRklsDPqv1bl",
    "outputId": "293fd830-e61b-4c78-f3b2-b6c9b3d756cd"
   },
   "outputs": [
    {
     "name": "stdout",
     "output_type": "stream",
     "text": [
      "Karnivora\n",
      "Karnivora\n",
      "Karnivora\n"
     ]
    }
   ],
   "source": [
    "print(macan.nama_latin)\n",
    "print(singa.nama_latin)\n",
    "print(harimau.nama_latin)"
   ]
  },
  {
   "cell_type": "markdown",
   "metadata": {
    "id": "S7SoXt_S9QVD"
   },
   "source": [
    "# Child Class dan Override method"
   ]
  },
  {
   "cell_type": "code",
   "execution_count": 13,
   "metadata": {
    "id": "2hTW7N3WwWsc"
   },
   "outputs": [],
   "source": [
    "class Kucing(Hewan):\n",
    "\n",
    "  nama_latin = 'Felis Catus'\n",
    "  max_kecepatan_lari = 10\n",
    "\n",
    "  def __init__(self, nama, umur, kecepatan_lari): \n",
    "    Hewan.__init__(self, nama, umur)\n",
    "    Hewan.change_nama_latin(Kucing.nama_latin)\n",
    "    if kecepatan_lari < Kucing.max_kecepatan_lari:\n",
    "      self.kecepatan_lari = 'lambat'\n",
    "    else:\n",
    "      self.kecepatan_lari = 'cepat sekali'\n",
    "\n",
    "  def print_deskripsi(self):\n",
    "    print(f'''\n",
    "    deskripsi hewan:\n",
    "    hewan: {self.nama}\n",
    "    umur: {self.umur}\n",
    "    kecepatan_lari: {self.kecepatan_lari}\n",
    "    status: sudah bangun\n",
    "    ''')\n",
    "\n",
    "  def print_kecepatan_lari(self):\n",
    "     print(f'kecepatan lari kucing {self.nama} {self.kecepatan_lari}')   "
   ]
  },
  {
   "cell_type": "code",
   "execution_count": 14,
   "metadata": {
    "id": "DSsABQKO2X0O"
   },
   "outputs": [],
   "source": [
    "anggora = Kucing('anggora', 3, 7)\n",
    "sphynx = Kucing('sphynx', 4, 12)\n",
    "persia = Kucing('persia', 2, 9)"
   ]
  },
  {
   "cell_type": "code",
   "execution_count": 15,
   "metadata": {
    "colab": {
     "base_uri": "https://localhost:8080/"
    },
    "id": "ogY-bdpC7IGJ",
    "outputId": "9874b755-0284-431b-f2d7-0ea9b6911d70"
   },
   "outputs": [
    {
     "name": "stdout",
     "output_type": "stream",
     "text": [
      "kecepatan lari kucing anggora lambat\n",
      "kecepatan lari kucing sphynx cepat sekali\n",
      "kecepatan lari kucing persia lambat\n"
     ]
    }
   ],
   "source": [
    "anggora.print_kecepatan_lari()\n",
    "sphynx.print_kecepatan_lari()\n",
    "persia.print_kecepatan_lari()"
   ]
  },
  {
   "cell_type": "code",
   "execution_count": null,
   "metadata": {
    "id": "47bB1Go-7YCt"
   },
   "outputs": [],
   "source": []
  }
 ],
 "metadata": {
  "colab": {
   "collapsed_sections": [],
   "name": "Andre_BasicOOP.ipynb",
   "provenance": [],
   "toc_visible": true
  },
  "kernelspec": {
   "display_name": "Python 3",
   "language": "python",
   "name": "python3"
  },
  "language_info": {
   "codemirror_mode": {
    "name": "ipython",
    "version": 3
   },
   "file_extension": ".py",
   "mimetype": "text/x-python",
   "name": "python",
   "nbconvert_exporter": "python",
   "pygments_lexer": "ipython3",
   "version": "3.8.8"
  }
 },
 "nbformat": 4,
 "nbformat_minor": 1
}
